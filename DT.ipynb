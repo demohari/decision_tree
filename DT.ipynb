{
 "cells": [
  {
   "cell_type": "markdown",
   "id": "74268965",
   "metadata": {},
   "source": [
    "# DecisionTreeClassifier"
   ]
  },
  {
   "cell_type": "markdown",
   "id": "f09e07c4",
   "metadata": {},
   "source": [
    "## 1.Installing required libraries"
   ]
  },
  {
   "cell_type": "code",
   "execution_count": 22,
   "id": "0e9e71be",
   "metadata": {},
   "outputs": [],
   "source": [
    "import pandas as pd\n",
    "import numpy as np\n",
    "import graphviz\n",
    "import pydotplus \n",
    "from six import StringIO\n",
    "from pandas_profiling import ProfileReport\n",
    "from sklearn import tree\n",
    "from sklearn.tree import DecisionTreeClassifier\n",
    "from sklearn.model_selection import train_test_split, GridSearchCV\n",
    "from sklearn.metrics import accuracy_score, confusion_matrix, roc_curve,roc_auc_score\n",
    "from IPython.display import IFrame, display"
   ]
  },
  {
   "cell_type": "markdown",
   "id": "3265292f",
   "metadata": {},
   "source": [
    "## Reading Dataset"
   ]
  },
  {
   "cell_type": "code",
   "execution_count": 23,
   "id": "b0f5c8ed",
   "metadata": {},
   "outputs": [],
   "source": [
    "df = pd.read_csv(\"https://raw.githubusercontent.com/aniruddhachoudhury/Red-Wine-Quality/master/winequality-red.csv\")"
   ]
  },
  {
   "cell_type": "markdown",
   "id": "97b9000c",
   "metadata": {},
   "source": [
    "## Show Top five Data points"
   ]
  },
  {
   "cell_type": "code",
   "execution_count": 24,
   "id": "ba598a70",
   "metadata": {},
   "outputs": [
    {
     "data": {
      "text/html": [
       "<div>\n",
       "<style scoped>\n",
       "    .dataframe tbody tr th:only-of-type {\n",
       "        vertical-align: middle;\n",
       "    }\n",
       "\n",
       "    .dataframe tbody tr th {\n",
       "        vertical-align: top;\n",
       "    }\n",
       "\n",
       "    .dataframe thead th {\n",
       "        text-align: right;\n",
       "    }\n",
       "</style>\n",
       "<table border=\"1\" class=\"dataframe\">\n",
       "  <thead>\n",
       "    <tr style=\"text-align: right;\">\n",
       "      <th></th>\n",
       "      <th>fixed acidity</th>\n",
       "      <th>volatile acidity</th>\n",
       "      <th>citric acid</th>\n",
       "      <th>residual sugar</th>\n",
       "      <th>chlorides</th>\n",
       "      <th>free sulfur dioxide</th>\n",
       "      <th>total sulfur dioxide</th>\n",
       "      <th>density</th>\n",
       "      <th>pH</th>\n",
       "      <th>sulphates</th>\n",
       "      <th>alcohol</th>\n",
       "      <th>quality</th>\n",
       "    </tr>\n",
       "  </thead>\n",
       "  <tbody>\n",
       "    <tr>\n",
       "      <th>0</th>\n",
       "      <td>7.4</td>\n",
       "      <td>0.70</td>\n",
       "      <td>0.00</td>\n",
       "      <td>1.9</td>\n",
       "      <td>0.076</td>\n",
       "      <td>11.0</td>\n",
       "      <td>34.0</td>\n",
       "      <td>0.9978</td>\n",
       "      <td>3.51</td>\n",
       "      <td>0.56</td>\n",
       "      <td>9.4</td>\n",
       "      <td>5</td>\n",
       "    </tr>\n",
       "    <tr>\n",
       "      <th>1</th>\n",
       "      <td>7.8</td>\n",
       "      <td>0.88</td>\n",
       "      <td>0.00</td>\n",
       "      <td>2.6</td>\n",
       "      <td>0.098</td>\n",
       "      <td>25.0</td>\n",
       "      <td>67.0</td>\n",
       "      <td>0.9968</td>\n",
       "      <td>3.20</td>\n",
       "      <td>0.68</td>\n",
       "      <td>9.8</td>\n",
       "      <td>5</td>\n",
       "    </tr>\n",
       "    <tr>\n",
       "      <th>2</th>\n",
       "      <td>7.8</td>\n",
       "      <td>0.76</td>\n",
       "      <td>0.04</td>\n",
       "      <td>2.3</td>\n",
       "      <td>0.092</td>\n",
       "      <td>15.0</td>\n",
       "      <td>54.0</td>\n",
       "      <td>0.9970</td>\n",
       "      <td>3.26</td>\n",
       "      <td>0.65</td>\n",
       "      <td>9.8</td>\n",
       "      <td>5</td>\n",
       "    </tr>\n",
       "    <tr>\n",
       "      <th>3</th>\n",
       "      <td>11.2</td>\n",
       "      <td>0.28</td>\n",
       "      <td>0.56</td>\n",
       "      <td>1.9</td>\n",
       "      <td>0.075</td>\n",
       "      <td>17.0</td>\n",
       "      <td>60.0</td>\n",
       "      <td>0.9980</td>\n",
       "      <td>3.16</td>\n",
       "      <td>0.58</td>\n",
       "      <td>9.8</td>\n",
       "      <td>6</td>\n",
       "    </tr>\n",
       "    <tr>\n",
       "      <th>4</th>\n",
       "      <td>7.4</td>\n",
       "      <td>0.70</td>\n",
       "      <td>0.00</td>\n",
       "      <td>1.9</td>\n",
       "      <td>0.076</td>\n",
       "      <td>11.0</td>\n",
       "      <td>34.0</td>\n",
       "      <td>0.9978</td>\n",
       "      <td>3.51</td>\n",
       "      <td>0.56</td>\n",
       "      <td>9.4</td>\n",
       "      <td>5</td>\n",
       "    </tr>\n",
       "  </tbody>\n",
       "</table>\n",
       "</div>"
      ],
      "text/plain": [
       "   fixed acidity  volatile acidity  citric acid  residual sugar  chlorides  \\\n",
       "0            7.4              0.70         0.00             1.9      0.076   \n",
       "1            7.8              0.88         0.00             2.6      0.098   \n",
       "2            7.8              0.76         0.04             2.3      0.092   \n",
       "3           11.2              0.28         0.56             1.9      0.075   \n",
       "4            7.4              0.70         0.00             1.9      0.076   \n",
       "\n",
       "   free sulfur dioxide  total sulfur dioxide  density    pH  sulphates  \\\n",
       "0                 11.0                  34.0   0.9978  3.51       0.56   \n",
       "1                 25.0                  67.0   0.9968  3.20       0.68   \n",
       "2                 15.0                  54.0   0.9970  3.26       0.65   \n",
       "3                 17.0                  60.0   0.9980  3.16       0.58   \n",
       "4                 11.0                  34.0   0.9978  3.51       0.56   \n",
       "\n",
       "   alcohol  quality  \n",
       "0      9.4        5  \n",
       "1      9.8        5  \n",
       "2      9.8        5  \n",
       "3      9.8        6  \n",
       "4      9.4        5  "
      ]
     },
     "execution_count": 24,
     "metadata": {},
     "output_type": "execute_result"
    }
   ],
   "source": [
    "df.head()"
   ]
  },
  {
   "cell_type": "markdown",
   "id": "97e91542",
   "metadata": {},
   "source": [
    "## Dispaly info"
   ]
  },
  {
   "cell_type": "code",
   "execution_count": 25,
   "id": "08d58b88",
   "metadata": {},
   "outputs": [
    {
     "name": "stdout",
     "output_type": "stream",
     "text": [
      "<class 'pandas.core.frame.DataFrame'>\n",
      "RangeIndex: 1599 entries, 0 to 1598\n",
      "Data columns (total 12 columns):\n",
      " #   Column                Non-Null Count  Dtype  \n",
      "---  ------                --------------  -----  \n",
      " 0   fixed acidity         1599 non-null   float64\n",
      " 1   volatile acidity      1599 non-null   float64\n",
      " 2   citric acid           1599 non-null   float64\n",
      " 3   residual sugar        1599 non-null   float64\n",
      " 4   chlorides             1599 non-null   float64\n",
      " 5   free sulfur dioxide   1599 non-null   float64\n",
      " 6   total sulfur dioxide  1599 non-null   float64\n",
      " 7   density               1599 non-null   float64\n",
      " 8   pH                    1599 non-null   float64\n",
      " 9   sulphates             1599 non-null   float64\n",
      " 10  alcohol               1599 non-null   float64\n",
      " 11  quality               1599 non-null   int64  \n",
      "dtypes: float64(11), int64(1)\n",
      "memory usage: 150.0 KB\n"
     ]
    }
   ],
   "source": [
    "df.info()"
   ]
  },
  {
   "cell_type": "markdown",
   "id": "7dffb37b",
   "metadata": {},
   "source": [
    "## Profile_report to html"
   ]
  },
  {
   "cell_type": "code",
   "execution_count": 26,
   "id": "50dc6c93",
   "metadata": {},
   "outputs": [
    {
     "data": {
      "application/vnd.jupyter.widget-view+json": {
       "model_id": "0a8a984396174300ba87f280c9cf2b7c",
       "version_major": 2,
       "version_minor": 0
      },
      "text/plain": [
       "Summarize dataset:   0%|          | 0/5 [00:00<?, ?it/s]"
      ]
     },
     "metadata": {},
     "output_type": "display_data"
    },
    {
     "name": "stderr",
     "output_type": "stream",
     "text": [
      "c:\\DS\\ML_FEB\\DECISION_TREE\\ENV\\lib\\site-packages\\multimethod\\__init__.py:315: FutureWarning: In a future version, `df.iloc[:, i] = newvals` will attempt to set the values inplace instead of always setting a new array. To retain the old behavior, use either `df[df.columns[i]] = newvals` or, if columns are non-unique, `df.isetitem(i, newvals)`\n",
      "  return func(*args, **kwargs)\n"
     ]
    },
    {
     "data": {
      "application/vnd.jupyter.widget-view+json": {
       "model_id": "143df2561ef444bc8ac056b9a74512a7",
       "version_major": 2,
       "version_minor": 0
      },
      "text/plain": [
       "Generate report structure:   0%|          | 0/1 [00:00<?, ?it/s]"
      ]
     },
     "metadata": {},
     "output_type": "display_data"
    },
    {
     "data": {
      "application/vnd.jupyter.widget-view+json": {
       "model_id": "6af8d81765934faca644d98ee659ce66",
       "version_major": 2,
       "version_minor": 0
      },
      "text/plain": [
       "Render HTML:   0%|          | 0/1 [00:00<?, ?it/s]"
      ]
     },
     "metadata": {},
     "output_type": "display_data"
    },
    {
     "data": {
      "application/vnd.jupyter.widget-view+json": {
       "model_id": "7d5e7f84a626428da6b0a05a14db219e",
       "version_major": 2,
       "version_minor": 0
      },
      "text/plain": [
       "Export report to file:   0%|          | 0/1 [00:00<?, ?it/s]"
      ]
     },
     "metadata": {},
     "output_type": "display_data"
    }
   ],
   "source": [
    "ProfileReport(df).to_file(\"wine_report.html\")"
   ]
  },
  {
   "cell_type": "markdown",
   "id": "a9ca9cbf",
   "metadata": {},
   "source": [
    "## Display Profile_report in notebook"
   ]
  },
  {
   "cell_type": "code",
   "execution_count": 27,
   "id": "f9403dc4",
   "metadata": {},
   "outputs": [
    {
     "data": {
      "application/vnd.jupyter.widget-view+json": {
       "model_id": "155cf4909c3c4be6939ff016feb2900d",
       "version_major": 2,
       "version_minor": 0
      },
      "text/plain": [
       "Summarize dataset:   0%|          | 0/5 [00:00<?, ?it/s]"
      ]
     },
     "metadata": {},
     "output_type": "display_data"
    },
    {
     "data": {
      "application/vnd.jupyter.widget-view+json": {
       "model_id": "1e6f0e139fd649c0a2aaadf61585ac9b",
       "version_major": 2,
       "version_minor": 0
      },
      "text/plain": [
       "Generate report structure:   0%|          | 0/1 [00:00<?, ?it/s]"
      ]
     },
     "metadata": {},
     "output_type": "display_data"
    }
   ],
   "source": [
    "ProfileReport(df)"
   ]
  },
  {
   "cell_type": "code",
   "execution_count": null,
   "id": "d1951bb6",
   "metadata": {},
   "outputs": [
    {
     "name": "stdout",
     "output_type": "stream",
     "text": [
      "x shape :\t(1599, 11)\n",
      "y shape : \t(1599,)\n"
     ]
    }
   ],
   "source": [
    "x = df.drop(columns='quality')\n",
    "y=df['quality']\n",
    "print(f\"x shape :\\t{x.shape}\\ny shape : \\t{y.shape}\")"
   ]
  },
  {
   "cell_type": "code",
   "execution_count": null,
   "id": "b784128a",
   "metadata": {},
   "outputs": [],
   "source": [
    "x_train, x_test, y_train, y_test = train_test_split(\n",
    "    x, y, test_size=.40, random_state=500)\n"
   ]
  },
  {
   "cell_type": "markdown",
   "id": "79421e1a",
   "metadata": {},
   "source": [
    "## Fitting Classifier & Creating Tree pdf"
   ]
  },
  {
   "cell_type": "code",
   "execution_count": null,
   "id": "cd8c335f",
   "metadata": {},
   "outputs": [
    {
     "data": {
      "text/plain": [
       "True"
      ]
     },
     "execution_count": 14,
     "metadata": {},
     "output_type": "execute_result"
    }
   ],
   "source": [
    "\n",
    "clf = DecisionTreeClassifier()\n",
    "\n",
    "clf = clf.fit(x_train,y_train)\n",
    "\n",
    "\n",
    "\n",
    "dot_data = StringIO() \n",
    "tree.export_graphviz(clf,feature_names=x.columns, out_file=dot_data) \n",
    "graph = pydotplus.graph_from_dot_data(dot_data.getvalue()) \n",
    "graph.write_pdf(\"wine_tree.pdf\") \n"
   ]
  },
  {
   "cell_type": "code",
   "execution_count": null,
   "id": "5d46a1f7",
   "metadata": {},
   "outputs": [
    {
     "data": {
      "text/plain": [
       "array([6, 5, 5, 7, 5, 6, 5, 6, 7, 6, 6, 5, 6, 6, 5, 6, 7, 6, 6, 6, 5, 5,\n",
       "       6, 6, 6, 5, 7, 6, 7, 5, 5, 6, 8, 5, 5, 7, 6, 8, 5, 6, 6, 7, 5, 6,\n",
       "       5, 5, 6, 5, 5, 5, 5, 6, 5, 5, 6, 7, 5, 6, 6, 5, 5, 5, 6, 6, 6, 6,\n",
       "       7, 5, 6, 6, 6, 5, 5, 7, 6, 5, 5, 5, 6, 5, 5, 6, 6, 7, 7, 5, 5, 5,\n",
       "       7, 6, 6, 5, 7, 5, 6, 6, 7, 6, 6, 5, 5, 6, 6, 5, 4, 7, 5, 5, 6, 6,\n",
       "       5, 6, 5, 5, 6, 6, 5, 7, 5, 6, 6, 5, 6, 4, 5, 5, 6, 5, 6, 7, 6, 5,\n",
       "       5, 6, 6, 6, 7, 6, 6, 6, 6, 5, 5, 6, 5, 4, 5, 5, 5, 5, 6, 6, 6, 5,\n",
       "       5, 5, 5, 7, 6, 4, 6, 5, 5, 6, 6, 7, 6, 6, 7, 6, 5, 5, 6, 5, 6, 5,\n",
       "       4, 6, 6, 6, 6, 5, 5, 7, 6, 5, 5, 6, 6, 6, 6, 5, 6, 5, 6, 6, 6, 5,\n",
       "       6, 5, 6, 5, 6, 6, 5, 5, 7, 5, 5, 7, 5, 5, 5, 5, 6, 5, 5, 6, 5, 6,\n",
       "       6, 5, 6, 6, 7, 6, 5, 6, 5, 8, 5, 7, 6, 7, 7, 6, 5, 7, 6, 5, 6, 6,\n",
       "       6, 6, 5, 6, 5, 7, 6, 5, 6, 5, 7, 5, 6, 6, 6, 6, 5, 6, 6, 6, 7, 5,\n",
       "       7, 6, 5, 5, 6, 5, 6, 5, 6, 6, 5, 6, 6, 6, 6, 6, 7, 7, 8, 5, 6, 6,\n",
       "       7, 5, 5, 6, 6, 5, 6, 6, 5, 6, 5, 5, 7, 7, 5, 6, 7, 4, 5, 5, 6, 5,\n",
       "       5, 5, 6, 5, 5, 8, 5, 5, 5, 5, 4, 6, 6, 6, 5, 6, 6, 6, 5, 5, 6, 5,\n",
       "       6, 7, 5, 5, 5, 6, 6, 4, 5, 6, 5, 6, 5, 4, 7, 7, 5, 7, 5, 5, 4, 5,\n",
       "       5, 5, 7, 6, 5, 5, 7, 6, 4, 6, 5, 5, 6, 6, 5, 5, 6, 7, 5, 6, 6, 5,\n",
       "       6, 5, 6, 6, 5, 7, 6, 5, 5, 5, 6, 7, 7, 6, 6, 6, 6, 5, 5, 5, 8, 5,\n",
       "       5, 7, 5, 6, 5, 5, 5, 6, 5, 6, 6, 5, 8, 5, 5, 6, 6, 7, 5, 5, 5, 5,\n",
       "       6, 5, 6, 5, 5, 6, 6, 7, 8, 5, 6, 7, 6, 5, 6, 5, 6, 3, 6, 5, 6, 6,\n",
       "       6, 7, 6, 7, 5, 6, 5, 6, 6, 6, 4, 6, 6, 5, 6, 6, 7, 5, 6, 5, 6, 6,\n",
       "       5, 5, 7, 5, 8, 5, 6, 7, 6, 6, 6, 6, 5, 6, 6, 5, 5, 7, 6, 6, 5, 6,\n",
       "       5, 5, 5, 5, 6, 6, 5, 7, 5, 6, 6, 6, 4, 6, 5, 7, 7, 5, 7, 7, 5, 4,\n",
       "       6, 6, 6, 5, 6, 6, 6, 6, 5, 6, 6, 6, 6, 5, 5, 6, 5, 4, 6, 6, 7, 5,\n",
       "       5, 5, 6, 4, 6, 6, 7, 4, 6, 5, 4, 7, 7, 5, 6, 6, 4, 5, 6, 5, 6, 5,\n",
       "       6, 6, 5, 6, 5, 5, 5, 5, 6, 7, 6, 6, 5, 7, 4, 5, 5, 6, 5, 5, 5, 5,\n",
       "       6, 5, 5, 6, 7, 5, 7, 5, 5, 7, 7, 5, 5, 7, 7, 6, 5, 5, 6, 5, 5, 5,\n",
       "       5, 6, 6, 6, 6, 5, 6, 6, 6, 5, 6, 5, 7, 6, 8, 6, 6, 6, 5, 5, 6, 4,\n",
       "       6, 5, 5, 6, 6, 7, 5, 5, 6, 6, 6, 6, 5, 6, 5, 6, 5, 6, 7, 6, 7, 5,\n",
       "       6, 6], dtype=int64)"
      ]
     },
     "execution_count": 15,
     "metadata": {},
     "output_type": "execute_result"
    }
   ],
   "source": [
    "clf.predict(x_test)"
   ]
  },
  {
   "cell_type": "code",
   "execution_count": null,
   "id": "92912b87",
   "metadata": {},
   "outputs": [
    {
     "data": {
      "text/plain": [
       "0.553125"
      ]
     },
     "execution_count": 16,
     "metadata": {},
     "output_type": "execute_result"
    }
   ],
   "source": [
    "clf.score(x_test,y_test)"
   ]
  },
  {
   "cell_type": "markdown",
   "id": "ca83eebf",
   "metadata": {},
   "source": [
    "## Display pdf files in notebook"
   ]
  },
  {
   "cell_type": "code",
   "execution_count": null,
   "id": "7c079221",
   "metadata": {},
   "outputs": [
    {
     "data": {
      "text/html": [
       "\n",
       "        <iframe\n",
       "            width=\"700\"\n",
       "            height=\"400\"\n",
       "            src=\"wine_tree.pdf\"\n",
       "            frameborder=\"0\"\n",
       "            allowfullscreen\n",
       "            \n",
       "        ></iframe>\n",
       "        "
      ],
      "text/plain": [
       "<IPython.lib.display.IFrame at 0x1a384338d90>"
      ]
     },
     "execution_count": 9,
     "metadata": {},
     "output_type": "execute_result"
    }
   ],
   "source": [
    "#filepath = \"http://wikipedia.org\" # works with websites too!\n",
    "filepath = \"wine_tree.pdf\"\n",
    "IFrame(filepath, width=700, height=400)"
   ]
  },
  {
   "cell_type": "code",
   "execution_count": null,
   "id": "916e5dd6",
   "metadata": {},
   "outputs": [],
   "source": [
    "clf_en = DecisionTreeClassifier(criterion=\"entropy\")"
   ]
  },
  {
   "cell_type": "code",
   "execution_count": null,
   "id": "5578ce81",
   "metadata": {},
   "outputs": [
    {
     "data": {
      "text/html": [
       "<style>#sk-container-id-2 {color: black;background-color: white;}#sk-container-id-2 pre{padding: 0;}#sk-container-id-2 div.sk-toggleable {background-color: white;}#sk-container-id-2 label.sk-toggleable__label {cursor: pointer;display: block;width: 100%;margin-bottom: 0;padding: 0.3em;box-sizing: border-box;text-align: center;}#sk-container-id-2 label.sk-toggleable__label-arrow:before {content: \"▸\";float: left;margin-right: 0.25em;color: #696969;}#sk-container-id-2 label.sk-toggleable__label-arrow:hover:before {color: black;}#sk-container-id-2 div.sk-estimator:hover label.sk-toggleable__label-arrow:before {color: black;}#sk-container-id-2 div.sk-toggleable__content {max-height: 0;max-width: 0;overflow: hidden;text-align: left;background-color: #f0f8ff;}#sk-container-id-2 div.sk-toggleable__content pre {margin: 0.2em;color: black;border-radius: 0.25em;background-color: #f0f8ff;}#sk-container-id-2 input.sk-toggleable__control:checked~div.sk-toggleable__content {max-height: 200px;max-width: 100%;overflow: auto;}#sk-container-id-2 input.sk-toggleable__control:checked~label.sk-toggleable__label-arrow:before {content: \"▾\";}#sk-container-id-2 div.sk-estimator input.sk-toggleable__control:checked~label.sk-toggleable__label {background-color: #d4ebff;}#sk-container-id-2 div.sk-label input.sk-toggleable__control:checked~label.sk-toggleable__label {background-color: #d4ebff;}#sk-container-id-2 input.sk-hidden--visually {border: 0;clip: rect(1px 1px 1px 1px);clip: rect(1px, 1px, 1px, 1px);height: 1px;margin: -1px;overflow: hidden;padding: 0;position: absolute;width: 1px;}#sk-container-id-2 div.sk-estimator {font-family: monospace;background-color: #f0f8ff;border: 1px dotted black;border-radius: 0.25em;box-sizing: border-box;margin-bottom: 0.5em;}#sk-container-id-2 div.sk-estimator:hover {background-color: #d4ebff;}#sk-container-id-2 div.sk-parallel-item::after {content: \"\";width: 100%;border-bottom: 1px solid gray;flex-grow: 1;}#sk-container-id-2 div.sk-label:hover label.sk-toggleable__label {background-color: #d4ebff;}#sk-container-id-2 div.sk-serial::before {content: \"\";position: absolute;border-left: 1px solid gray;box-sizing: border-box;top: 0;bottom: 0;left: 50%;z-index: 0;}#sk-container-id-2 div.sk-serial {display: flex;flex-direction: column;align-items: center;background-color: white;padding-right: 0.2em;padding-left: 0.2em;position: relative;}#sk-container-id-2 div.sk-item {position: relative;z-index: 1;}#sk-container-id-2 div.sk-parallel {display: flex;align-items: stretch;justify-content: center;background-color: white;position: relative;}#sk-container-id-2 div.sk-item::before, #sk-container-id-2 div.sk-parallel-item::before {content: \"\";position: absolute;border-left: 1px solid gray;box-sizing: border-box;top: 0;bottom: 0;left: 50%;z-index: -1;}#sk-container-id-2 div.sk-parallel-item {display: flex;flex-direction: column;z-index: 1;position: relative;background-color: white;}#sk-container-id-2 div.sk-parallel-item:first-child::after {align-self: flex-end;width: 50%;}#sk-container-id-2 div.sk-parallel-item:last-child::after {align-self: flex-start;width: 50%;}#sk-container-id-2 div.sk-parallel-item:only-child::after {width: 0;}#sk-container-id-2 div.sk-dashed-wrapped {border: 1px dashed gray;margin: 0 0.4em 0.5em 0.4em;box-sizing: border-box;padding-bottom: 0.4em;background-color: white;}#sk-container-id-2 div.sk-label label {font-family: monospace;font-weight: bold;display: inline-block;line-height: 1.2em;}#sk-container-id-2 div.sk-label-container {text-align: center;}#sk-container-id-2 div.sk-container {/* jupyter's `normalize.less` sets `[hidden] { display: none; }` but bootstrap.min.css set `[hidden] { display: none !important; }` so we also need the `!important` here to be able to override the default hidden behavior on the sphinx rendered scikit-learn.org. See: https://github.com/scikit-learn/scikit-learn/issues/21755 */display: inline-block !important;position: relative;}#sk-container-id-2 div.sk-text-repr-fallback {display: none;}</style><div id=\"sk-container-id-2\" class=\"sk-top-container\"><div class=\"sk-text-repr-fallback\"><pre>DecisionTreeClassifier(criterion=&#x27;entropy&#x27;)</pre><b>In a Jupyter environment, please rerun this cell to show the HTML representation or trust the notebook. <br />On GitHub, the HTML representation is unable to render, please try loading this page with nbviewer.org.</b></div><div class=\"sk-container\" hidden><div class=\"sk-item\"><div class=\"sk-estimator sk-toggleable\"><input class=\"sk-toggleable__control sk-hidden--visually\" id=\"sk-estimator-id-2\" type=\"checkbox\" checked><label for=\"sk-estimator-id-2\" class=\"sk-toggleable__label sk-toggleable__label-arrow\">DecisionTreeClassifier</label><div class=\"sk-toggleable__content\"><pre>DecisionTreeClassifier(criterion=&#x27;entropy&#x27;)</pre></div></div></div></div></div>"
      ],
      "text/plain": [
       "DecisionTreeClassifier(criterion='entropy')"
      ]
     },
     "execution_count": 19,
     "metadata": {},
     "output_type": "execute_result"
    }
   ],
   "source": [
    "clf_en.fit(x_train,y_train)"
   ]
  },
  {
   "cell_type": "code",
   "execution_count": null,
   "id": "baccbacc",
   "metadata": {},
   "outputs": [
    {
     "data": {
      "text/plain": [
       "0.5703125"
      ]
     },
     "execution_count": 20,
     "metadata": {},
     "output_type": "execute_result"
    }
   ],
   "source": [
    "clf_en.score(x_test, y_test)"
   ]
  },
  {
   "cell_type": "code",
   "execution_count": 21,
   "id": "9340923e",
   "metadata": {},
   "outputs": [
    {
     "data": {
      "text/plain": [
       "array([7, 5, 5, 6, 5, 5, 5, 7, 7, 5, 6, 5, 6, 6, 5, 6, 6, 5, 6, 6, 5, 5,\n",
       "       7, 5, 6, 7, 6, 5, 5, 5, 5, 7, 8, 6, 5, 5, 5, 8, 6, 7, 5, 6, 5, 6,\n",
       "       5, 5, 5, 5, 5, 5, 5, 6, 5, 7, 6, 6, 5, 5, 6, 5, 5, 5, 5, 6, 6, 5,\n",
       "       5, 5, 6, 5, 6, 6, 5, 6, 6, 5, 5, 5, 6, 5, 5, 5, 5, 7, 7, 4, 5, 5,\n",
       "       7, 6, 5, 6, 7, 5, 6, 7, 7, 7, 7, 6, 5, 5, 6, 5, 6, 7, 6, 5, 6, 6,\n",
       "       5, 6, 5, 7, 5, 6, 5, 7, 5, 6, 6, 5, 6, 5, 5, 5, 6, 6, 6, 5, 6, 6,\n",
       "       5, 6, 7, 5, 8, 6, 6, 5, 6, 5, 6, 6, 5, 5, 5, 5, 4, 5, 7, 6, 6, 5,\n",
       "       5, 6, 6, 5, 6, 4, 5, 5, 4, 6, 5, 7, 6, 7, 6, 6, 5, 5, 6, 5, 6, 5,\n",
       "       4, 6, 6, 6, 6, 6, 5, 8, 5, 5, 5, 5, 6, 5, 6, 5, 6, 6, 5, 7, 6, 5,\n",
       "       6, 5, 7, 5, 5, 6, 5, 5, 6, 7, 6, 7, 6, 6, 5, 6, 6, 5, 5, 5, 3, 6,\n",
       "       7, 5, 6, 6, 7, 6, 5, 5, 5, 6, 5, 8, 6, 7, 7, 5, 5, 7, 7, 5, 6, 6,\n",
       "       6, 7, 6, 6, 7, 7, 5, 5, 5, 7, 6, 4, 5, 6, 6, 7, 5, 5, 6, 5, 7, 6,\n",
       "       6, 5, 5, 6, 7, 5, 6, 5, 6, 6, 5, 6, 6, 6, 6, 6, 7, 7, 7, 6, 7, 6,\n",
       "       5, 5, 5, 6, 5, 5, 7, 6, 5, 6, 6, 4, 6, 7, 5, 6, 7, 5, 5, 5, 5, 5,\n",
       "       4, 5, 6, 5, 5, 6, 5, 5, 5, 6, 6, 6, 6, 6, 5, 8, 6, 5, 5, 6, 6, 6,\n",
       "       3, 6, 5, 5, 5, 6, 6, 6, 5, 5, 6, 6, 7, 5, 6, 7, 5, 7, 5, 6, 6, 5,\n",
       "       5, 5, 7, 6, 5, 5, 8, 6, 5, 5, 5, 5, 5, 6, 5, 5, 5, 7, 5, 5, 6, 5,\n",
       "       6, 6, 6, 6, 5, 6, 6, 5, 5, 7, 6, 5, 6, 6, 6, 5, 5, 5, 5, 5, 5, 5,\n",
       "       5, 7, 5, 6, 5, 6, 6, 6, 6, 7, 6, 7, 6, 5, 5, 6, 6, 6, 5, 6, 6, 6,\n",
       "       7, 5, 5, 6, 7, 6, 6, 7, 7, 5, 6, 6, 5, 5, 6, 5, 6, 6, 6, 5, 6, 6,\n",
       "       5, 6, 6, 5, 5, 5, 5, 5, 5, 6, 5, 4, 5, 5, 6, 6, 6, 5, 6, 5, 6, 7,\n",
       "       5, 5, 7, 5, 7, 5, 6, 5, 6, 8, 6, 6, 6, 6, 6, 6, 5, 5, 4, 6, 5, 6,\n",
       "       6, 5, 5, 5, 6, 5, 5, 6, 5, 6, 6, 6, 5, 5, 5, 6, 7, 6, 7, 8, 5, 5,\n",
       "       6, 5, 6, 5, 5, 6, 6, 6, 5, 6, 6, 4, 4, 5, 6, 6, 5, 5, 6, 6, 6, 5,\n",
       "       5, 5, 6, 4, 5, 6, 5, 4, 6, 7, 5, 7, 6, 5, 3, 6, 6, 6, 7, 5, 7, 5,\n",
       "       7, 6, 5, 6, 6, 5, 5, 5, 6, 7, 5, 7, 5, 7, 5, 5, 5, 6, 5, 5, 5, 5,\n",
       "       6, 5, 5, 7, 6, 6, 7, 5, 5, 7, 7, 4, 5, 7, 7, 6, 6, 5, 5, 5, 5, 5,\n",
       "       5, 6, 6, 5, 6, 6, 6, 5, 6, 5, 6, 5, 7, 7, 7, 7, 6, 5, 3, 6, 6, 6,\n",
       "       6, 5, 5, 7, 5, 8, 4, 6, 6, 6, 6, 6, 5, 6, 6, 5, 5, 5, 6, 7, 7, 5,\n",
       "       6, 5], dtype=int64)"
      ]
     },
     "execution_count": 21,
     "metadata": {},
     "output_type": "execute_result"
    }
   ],
   "source": [
    "clf_en.predict(x_test)"
   ]
  },
  {
   "cell_type": "code",
   "execution_count": null,
   "id": "29f88c32",
   "metadata": {},
   "outputs": [],
   "source": []
  }
 ],
 "metadata": {
  "kernelspec": {
   "display_name": "Python 3",
   "language": "python",
   "name": "python3"
  },
  "language_info": {
   "codemirror_mode": {
    "name": "ipython",
    "version": 3
   },
   "file_extension": ".py",
   "mimetype": "text/x-python",
   "name": "python",
   "nbconvert_exporter": "python",
   "pygments_lexer": "ipython3",
   "version": "3.8.15 (default, Nov 24 2022, 14:38:14) [MSC v.1916 64 bit (AMD64)]"
  },
  "vscode": {
   "interpreter": {
    "hash": "7b63edb21d1c80e3d061affcba8f0a532c1b05c54625e09ba0d4b1add8131eb2"
   }
  }
 },
 "nbformat": 4,
 "nbformat_minor": 5
}
